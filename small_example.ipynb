{
 "cells": [
  {
   "cell_type": "markdown",
   "metadata": {},
   "source": [
    "#Small example"
   ]
  },
  {
   "cell_type": "code",
   "execution_count": 79,
   "metadata": {},
   "outputs": [
    {
     "name": "stdout",
     "output_type": "stream",
     "text": [
      "Iteration ==================> 1\n",
      "joint 14  :  [1, 2, 3] count =  3\n",
      "joint 15  :  [1, 2, 3] count =  3\n",
      "joint 18  :  [2, 3, 4] count =  3\n",
      "joint 17  :  [2, 3] count =  2\n",
      "joint 20  :  [4, 5] count =  2\n",
      "joint 11  :  [1] count =  1\n",
      "joint 12  :  [1] count =  1\n",
      "joint 13  :  [1] count =  1\n",
      "joint 16  :  [2] count =  1\n",
      "joint 19  :  [4] count =  1\n",
      "Iteration ==================> 2\n",
      "joint 20  :  [4, 5] count =  2\n",
      "joint 18  :  [4] count =  1\n",
      "joint 19  :  [4] count =  1\n"
     ]
    }
   ],
   "source": [
    "vulnerable_nodes = [1,2,3,4,5]\n",
    "affected_nodes = [[11,12,13,14,15],[14,15,16,17,18],[14,15,17,18],[18,19,20],[20]]\n",
    "iteration = 1\n",
    "while(vulnerable_nodes):\n",
    "    print('Iteration ==================>',iteration)\n",
    "    output = []\n",
    "    for i in range(11,21):\n",
    "        list1 = []\n",
    "        for j in range (len(affected_nodes)):\n",
    "            count = affected_nodes[j].count(i)\n",
    "            if(count > 0):\n",
    "                list1.append(vulnerable_nodes[j])\n",
    "        output.append(list1)\n",
    "    max_len = 0\n",
    "    for i in range (len(output)):\n",
    "        if(len(output[i]) > max_len):\n",
    "            max_len = len(output[i])\n",
    "    for i in range(max_len, 0, -1):\n",
    "        for j in range (len(output)):\n",
    "            if(len(output[j]) == i):\n",
    "                print( 'joint', (j+11), \" : \",  output[j] , 'count = ' ,len(output[j]))\n",
    "    for j in range (len(output)):\n",
    "        if(len(output[j]) == max_len):\n",
    "            to_delete = output[j]\n",
    "            break\n",
    "    index = 0\n",
    "    while(to_delete):\n",
    "        for j in range(len(vulnerable_nodes)):\n",
    "            if(to_delete[0]==vulnerable_nodes[j]):\n",
    "                index = j\n",
    "        vulnerable_nodes.pop(index)\n",
    "        affected_nodes.pop(index)\n",
    "        to_delete.pop(0)\n",
    "    iteration = iteration + 1"
   ]
  },
  {
   "cell_type": "code",
   "execution_count": null,
   "metadata": {},
   "outputs": [],
   "source": []
  }
 ],
 "metadata": {
  "kernelspec": {
   "display_name": "Python 3",
   "language": "python",
   "name": "python3"
  },
  "language_info": {
   "codemirror_mode": {
    "name": "ipython",
    "version": 3
   },
   "file_extension": ".py",
   "mimetype": "text/x-python",
   "name": "python",
   "nbconvert_exporter": "python",
   "pygments_lexer": "ipython3",
   "version": "3.7.3"
  }
 },
 "nbformat": 4,
 "nbformat_minor": 2
}
